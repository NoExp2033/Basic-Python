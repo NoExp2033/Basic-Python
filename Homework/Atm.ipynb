{
 "cells": [
  {
   "cell_type": "code",
   "execution_count": 1,
   "metadata": {},
   "outputs": [
    {
     "name": "stdout",
     "output_type": "stream",
     "text": [
      "\n",
      "            ATM will pay bank :\n",
      "                1000 : 0\n",
      "                500  : 1\n",
      "                100  : 0\n",
      "\n"
     ]
    }
   ],
   "source": [
    "import sys\n",
    "\n",
    "bank_1000 = 10\n",
    "bank_500 = 20\n",
    "bank_100 = 30\n",
    "\n",
    "pay_1000 = 0\n",
    "pay_500 = 0\n",
    "pay_100 = 0\n",
    "\n",
    "total_money = (1000 * bank_1000) + \\\n",
    "              (500 * bank_500) + \\\n",
    "              (100 * bank_100)\n",
    "\n",
    "value = int(input(\"Enter your amount: \"))\n",
    "\n",
    "if value % 100 == 0:\n",
    "    if total_money >= value:\n",
    "        # consider bank 1000\n",
    "        pay_1000 = int(value / 1000)\n",
    "        value = value - (pay_1000 * 1000)\n",
    "\n",
    "        # consider bank 5000\n",
    "        pay_500 = int(value / 500)\n",
    "        value = value - (pay_500 * 500)\n",
    "\n",
    "         # consider bank 100\n",
    "        pay_100 = int(value / 100)\n",
    "        value = value - (pay_100 * 100)\n",
    "\n",
    "        print('''\n",
    "            ATM will pay bank :\n",
    "                1000 : {0}\n",
    "                500  : {1}\n",
    "                100  : {2}\\n'''.format(pay_1000, pay_500, pay_100))\n",
    "    else:\n",
    "        print(\"ATM have no enough money.\")\n",
    "        sys.exit(0)\n",
    "else:\n",
    "    print(\"Your amount is less than 100 bath.\")\n",
    "    sys.exit(0)"
   ]
  }
 ],
 "metadata": {
  "interpreter": {
   "hash": "b3ba2566441a7c06988d0923437866b63cedc61552a5af99d1f4fb67d367b25f"
  },
  "kernelspec": {
   "display_name": "Python 3.9.7 ('base')",
   "language": "python",
   "name": "python3"
  },
  "language_info": {
   "codemirror_mode": {
    "name": "ipython",
    "version": 3
   },
   "file_extension": ".py",
   "mimetype": "text/x-python",
   "name": "python",
   "nbconvert_exporter": "python",
   "pygments_lexer": "ipython3",
   "version": "3.9.7"
  },
  "orig_nbformat": 4
 },
 "nbformat": 4,
 "nbformat_minor": 2
}
