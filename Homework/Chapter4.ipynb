{
 "cells": [
  {
   "cell_type": "code",
   "execution_count": 6,
   "metadata": {},
   "outputs": [],
   "source": [
    "#1. จงอธิบายความหมายของคำว่า Syntax\n",
    "# คำตอบ\n",
    "\n",
    "# รูปแบบหรือโครงสร้างของภาษา"
   ]
  },
  {
   "cell_type": "code",
   "execution_count": 5,
   "metadata": {},
   "outputs": [],
   "source": [
    "#2.จงอธิบายความหมายของคำว่า Semantics\n",
    "# คำตอบ\n",
    "\n",
    "# การกำหนดความหมายของ syntaxและคำสั่ง"
   ]
  },
  {
   "cell_type": "code",
   "execution_count": 4,
   "metadata": {},
   "outputs": [],
   "source": [
    "#3.Identifiers คืออะไร\n",
    "# คำตอบ\n",
    "\n",
    "# รูปแบบหรือประเภท"
   ]
  },
  {
   "cell_type": "code",
   "execution_count": 3,
   "metadata": {},
   "outputs": [],
   "source": [
    "#4.คำสงวนในภาษาไพธอนคืออะไร และมีทั้งหมดกี่คำ\n",
    "# คำตอบ\n",
    "\n",
    "# เป็นคำที่เป็นคำสั่งในภาษา Python ซึ่งไม่สามารถนำไปตั้งชื่อตัวแปรได้\n",
    "# มีประมาณ 30 คำ"
   ]
  },
  {
   "cell_type": "code",
   "execution_count": 7,
   "metadata": {},
   "outputs": [
    {
     "name": "stdout",
     "output_type": "stream",
     "text": [
      "My name is Benjachok\n"
     ]
    }
   ],
   "source": [
    "#5.จงเขียนโปรแกรมไพธอนเพื่อรับข้อมูล ที่เป็นชื่อผู้ใช้งานจากแป้นพิมพ์และแสดงออกทางหน้าจอ\n",
    "# พิมพ์โค้ดโปรแกรมด้านล่างนี้\n",
    "\n",
    "name = input(\"Enter your name: \")\n",
    "print(\"My name is\",name)"
   ]
  },
  {
   "cell_type": "code",
   "execution_count": 9,
   "metadata": {},
   "outputs": [
    {
     "name": "stdout",
     "output_type": "stream",
     "text": [
      "3\n",
      "3.14\n",
      "3.1416\n"
     ]
    }
   ],
   "source": [
    "#6.จงเขียนโปรแกรมเพื่อแสดงค่าของ pi คือ 3.14159 ออกทางหน้าจอโดยทำการกำหนดรูปแบบในการแสดงผลดังต่อไปนี้\n",
    "pi = 3\n",
    "pi = 3.14\n",
    "pi = 3.1416\n",
    "pi = 3.14159\n",
    "\n",
    "print(f\"{pi:.0f}\")\n",
    "print(f\"{pi:.2f}\")\n",
    "print(f\"{pi:.4f}\")"
   ]
  },
  {
   "cell_type": "code",
   "execution_count": 11,
   "metadata": {},
   "outputs": [
    {
     "name": "stdout",
     "output_type": "stream",
     "text": [
      "|dog       |   cat    |       bat|\n"
     ]
    }
   ],
   "source": [
    "#7. จงเขียนโปรแกรมที่แสดงคำว่า \"dog\", \"cat\", \"bat\" ออกทางหน้าจอ โดยกำหนดรูปแบบในการแสดงดังต่อไปนี้\n",
    "print(\"|{:<10}|{:^10}|{:>10}|\".format(\"dog\", \"cat\", \"bat\"))"
   ]
  },
  {
   "cell_type": "code",
   "execution_count": 12,
   "metadata": {},
   "outputs": [
    {
     "name": "stdout",
     "output_type": "stream",
     "text": [
      "|dog*******|***cat****|*******bat|\n"
     ]
    }
   ],
   "source": [
    "#8. จงเขียนโปรแกรมที่แสดงคำว่า \"dog\", \"cat\", \"bat\" ออกทางหน้าจอ โดยกำหนดรูปแบบในการแสดงดังต่อไปนี้\n",
    "print(\"|{:*<10}|{:*^10}|{:*>10}|\".format(\"dog\", \"cat\", \"bat\"))"
   ]
  }
 ],
 "metadata": {
  "interpreter": {
   "hash": "b3ba2566441a7c06988d0923437866b63cedc61552a5af99d1f4fb67d367b25f"
  },
  "kernelspec": {
   "display_name": "Python 3.9.7 ('base')",
   "language": "python",
   "name": "python3"
  },
  "language_info": {
   "codemirror_mode": {
    "name": "ipython",
    "version": 3
   },
   "file_extension": ".py",
   "mimetype": "text/x-python",
   "name": "python",
   "nbconvert_exporter": "python",
   "pygments_lexer": "ipython3",
   "version": "3.9.7"
  },
  "orig_nbformat": 4
 },
 "nbformat": 4,
 "nbformat_minor": 2
}
