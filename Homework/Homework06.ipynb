{
 "cells": [
  {
   "cell_type": "code",
   "execution_count": 4,
   "metadata": {},
   "outputs": [
    {
     "name": "stdout",
     "output_type": "stream",
     "text": [
      "เบญจโชค โชติกุล 6412732108\n"
     ]
    }
   ],
   "source": [
    "print(\"เบญจโชค โชติกุล 6412732108\")"
   ]
  },
  {
   "cell_type": "code",
   "execution_count": 22,
   "metadata": {},
   "outputs": [
    {
     "name": "stdout",
     "output_type": "stream",
     "text": [
      "2\n",
      "6\n",
      "10\n",
      "14\n",
      "18\n",
      "22\n",
      "26\n"
     ]
    }
   ],
   "source": [
    "import sys\n",
    "f = int(input(\"Enter number for f: \"))\n",
    "t = int(input(\"Enter number for t: \"))\n",
    "i = int(input(\"Enter number for i: \"))\n",
    "for x in range(f, t+1 , i):\n",
    "  print(x) "
   ]
  },
  {
   "cell_type": "code",
   "execution_count": 28,
   "metadata": {},
   "outputs": [
    {
     "name": "stdout",
     "output_type": "stream",
     "text": [
      "type of a is :  <class 'str'>\n",
      "type of a is :  <class 'int'>\n"
     ]
    }
   ],
   "source": [
    "a = \"this is text\"\n",
    "b = 555\n",
    "print(\"type of a is : \",type(a))\n",
    "print(\"type of a is : \",type(b))"
   ]
  },
  {
   "cell_type": "code",
   "execution_count": 41,
   "metadata": {},
   "outputs": [
    {
     "name": "stdout",
     "output_type": "stream",
     "text": [
      "1\n",
      "2\n",
      "3\n",
      "4\n",
      "5\n",
      "120\n"
     ]
    }
   ],
   "source": [
    "number = int(input(\"input your number:\"))\n",
    "fact = 1\n",
    "for x in range(1, number+1):\n",
    "  fact = fact * x\n",
    "  print(x) \n",
    "\n",
    "print(fact)"
   ]
  },
  {
   "cell_type": "code",
   "execution_count": 45,
   "metadata": {},
   "outputs": [
    {
     "name": "stdout",
     "output_type": "stream",
     "text": [
      "2\n",
      "3\n",
      "5\n",
      "7\n",
      "11\n",
      "13\n",
      "17\n",
      "19\n",
      "23\n",
      "29\n",
      "31\n",
      "37\n",
      "41\n",
      "43\n",
      "47\n",
      "53\n",
      "59\n",
      "61\n",
      "67\n",
      "71\n",
      "73\n",
      "79\n",
      "83\n",
      "89\n",
      "97\n"
     ]
    }
   ],
   "source": [
    "\n",
    "for number in range (1, 100 + 1):  \n",
    "    if number > 1:  \n",
    "        for i in range (2, number):  \n",
    "            if (number % i) == 0:  \n",
    "                break  \n",
    "        else:  \n",
    "            print (number)  "
   ]
  },
  {
   "cell_type": "code",
   "execution_count": 47,
   "metadata": {},
   "outputs": [
    {
     "name": "stdout",
     "output_type": "stream",
     "text": [
      "\n",
      "* \n",
      "* * \n",
      "* * * \n",
      "* * * * \n",
      "* * * * * \n",
      "* * * * \n",
      "* * * \n",
      "* * \n",
      "*\n",
      "\n"
     ]
    }
   ],
   "source": [
    "print(\"\"\"\n",
    "* \n",
    "* * \n",
    "* * * \n",
    "* * * * \n",
    "* * * * * \n",
    "* * * * \n",
    "* * * \n",
    "* * \n",
    "*\n",
    "\"\"\")"
   ]
  },
  {
   "cell_type": "code",
   "execution_count": 51,
   "metadata": {},
   "outputs": [
    {
     "name": "stdout",
     "output_type": "stream",
     "text": [
      "2\n",
      "4\n",
      "5\n",
      "7\n",
      "8\n",
      "10\n",
      "11\n",
      "13\n",
      "14\n",
      "16\n",
      "17\n",
      "19\n",
      "20\n",
      "22\n",
      "23\n",
      "25\n",
      "26\n",
      "28\n",
      "29\n",
      "31\n",
      "32\n",
      "34\n",
      "35\n",
      "37\n",
      "38\n",
      "40\n",
      "41\n",
      "43\n",
      "44\n",
      "46\n",
      "47\n",
      "49\n",
      "50\n",
      "52\n",
      "53\n",
      "55\n",
      "56\n",
      "58\n",
      "59\n",
      "61\n",
      "62\n",
      "64\n",
      "65\n",
      "67\n",
      "68\n",
      "70\n",
      "71\n",
      "73\n",
      "74\n",
      "76\n",
      "77\n",
      "79\n",
      "80\n",
      "82\n",
      "83\n",
      "85\n",
      "86\n",
      "88\n",
      "89\n",
      "91\n",
      "92\n",
      "94\n",
      "95\n",
      "97\n",
      "98\n",
      "100\n"
     ]
    }
   ],
   "source": [
    "for number in range (1, 100 + 1):  \n",
    "    if number > 1:  \n",
    "        for i in range (2, number):  \n",
    "            if (number % 3) == 0:  \n",
    "                break  \n",
    "        else:  \n",
    "            print (number)"
   ]
  },
  {
   "cell_type": "code",
   "execution_count": 66,
   "metadata": {},
   "outputs": [
    {
     "name": "stdout",
     "output_type": "stream",
     "text": [
      "2\n",
      "Fizz\n",
      "4\n",
      "Buzz\n",
      "Fizz\n",
      "7\n",
      "8\n",
      "Fizz\n",
      "Buzz\n",
      "11\n",
      "Fizz\n",
      "13\n",
      "14\n",
      "Fizz Buzz\n",
      "16\n",
      "17\n",
      "Fizz\n",
      "19\n",
      "Buzz\n",
      "Fizz\n",
      "22\n",
      "23\n",
      "Fizz\n",
      "Buzz\n",
      "26\n",
      "Fizz\n",
      "28\n",
      "29\n",
      "Fizz Buzz\n",
      "31\n",
      "32\n",
      "Fizz\n",
      "34\n",
      "Buzz\n",
      "Fizz\n",
      "37\n",
      "38\n",
      "Fizz\n",
      "Buzz\n",
      "41\n",
      "Fizz\n",
      "43\n",
      "44\n",
      "Fizz Buzz\n",
      "46\n",
      "47\n",
      "Fizz\n",
      "49\n",
      "Buzz\n"
     ]
    }
   ],
   "source": [
    "for number in range (1, 50 + 1):  \n",
    "    if number > 1:  \n",
    "        for i in range (2, number):  \n",
    "            if (number % 3) == 0 and (number % 5) != 0:  \n",
    "                print(\"Fizz\")\n",
    "                break\n",
    "            if (number % 3) == 0 and (number % 5) == 0:  \n",
    "                print(\"Fizz Buzz\")\n",
    "                break\n",
    "            if (number % 5) == 0 and (number % 3) != 0:  \n",
    "                print(\"Buzz\")\n",
    "                break\n",
    "        else:  \n",
    "            print (number)"
   ]
  },
  {
   "cell_type": "code",
   "execution_count": 86,
   "metadata": {},
   "outputs": [
    {
     "name": "stdout",
     "output_type": "stream",
     "text": [
      "1 \n",
      "2 2 \n",
      "3 3 3 \n",
      "4 4 4 4 \n",
      "5 5 5 5 5 \n"
     ]
    }
   ],
   "source": [
    "number = int(input(\"enter your number here: \"))\n",
    "for x in range (1 , number+1):\n",
    "    for y in range(1 , x+1):\n",
    "        print(x , end=\" \")\n",
    "    print('')\n"
   ]
  }
 ],
 "metadata": {
  "interpreter": {
   "hash": "b3ba2566441a7c06988d0923437866b63cedc61552a5af99d1f4fb67d367b25f"
  },
  "kernelspec": {
   "display_name": "Python 3.9.7 64-bit ('base': conda)",
   "language": "python",
   "name": "python3"
  },
  "language_info": {
   "codemirror_mode": {
    "name": "ipython",
    "version": 3
   },
   "file_extension": ".py",
   "mimetype": "text/x-python",
   "name": "python",
   "nbconvert_exporter": "python",
   "pygments_lexer": "ipython3",
   "version": "3.9.7"
  },
  "orig_nbformat": 4
 },
 "nbformat": 4,
 "nbformat_minor": 2
}
