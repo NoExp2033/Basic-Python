{
 "cells": [
  {
   "cell_type": "code",
   "execution_count": 1,
   "metadata": {},
   "outputs": [
    {
     "name": "stdout",
     "output_type": "stream",
     "text": [
      "เบญจโชค โชติกุล 6412732108\n"
     ]
    }
   ],
   "source": [
    "print(\"เบญจโชค โชติกุล 6412732108\")"
   ]
  },
  {
   "cell_type": "code",
   "execution_count": 48,
   "metadata": {},
   "outputs": [
    {
     "name": "stdout",
     "output_type": "stream",
     "text": [
      "25\n"
     ]
    }
   ],
   "source": [
    "def function1(a,b,c,d,e):\n",
    "    return a+b+c+d+e\n",
    "result = function1(8,2,3,0,7)\n",
    "print(result)"
   ]
  },
  {
   "cell_type": "code",
   "execution_count": 1,
   "metadata": {},
   "outputs": [
    {
     "name": "stdout",
     "output_type": "stream",
     "text": [
      "dcba4321\n"
     ]
    }
   ],
   "source": [
    "def function2(a):\n",
    "    return a[::-1]\n",
    "result2 = function2('1234abcd')\n",
    "print(result2)"
   ]
  },
  {
   "cell_type": "code",
   "execution_count": 28,
   "metadata": {},
   "outputs": [
    {
     "name": "stdout",
     "output_type": "stream",
     "text": [
      "['a', 'b', 'c', 'd', 'e']\n"
     ]
    }
   ],
   "source": [
    "def function3(data):\n",
    "    mylist= []\n",
    "    mylist = list( dict.fromkeys(data) )\n",
    "    return mylist\n",
    "mylist3 = ['a', 'b', 'c', 'c', 'c', 'a', 'd', 'e', 'e']\n",
    "print(function3(mylist3))"
   ]
  },
  {
   "cell_type": "code",
   "execution_count": 19,
   "metadata": {},
   "outputs": [
    {
     "name": "stdout",
     "output_type": "stream",
     "text": [
      "True\n"
     ]
    }
   ],
   "source": [
    "def function4(a):\n",
    "    number = int(input(\"Input your number:\"))\n",
    "    number_int = isinstance(number,int)\n",
    "    a = number_int\n",
    "    print(a)\n",
    "result4 = function4(5)"
   ]
  },
  {
   "cell_type": "code",
   "execution_count": 39,
   "metadata": {},
   "outputs": [
    {
     "name": "stdout",
     "output_type": "stream",
     "text": [
      "black-green-red-white-yellow\n"
     ]
    }
   ],
   "source": [
    "def textsort(data):\n",
    "    return \"-\".join(sorted(data.split(\"-\")))\n",
    "result5 = textsort(\"green-red-yellow-black-white\")\n",
    "print(result5)\n"
   ]
  },
  {
   "cell_type": "code",
   "execution_count": 48,
   "metadata": {},
   "outputs": [
    {
     "name": "stdout",
     "output_type": "stream",
     "text": [
      "UpperCase: 3\n",
      "LowerCase: 12\n"
     ]
    }
   ],
   "source": [
    "def function6(a):\n",
    "    text = str(input(\"Input you word:\"))\n",
    "    print(\"UpperCase:\",sum(1 for c in text if c.isupper()))\n",
    "    print(\"LowerCase:\",sum(1 for c in text if c.islower()))\n",
    "result6 = function6(\"\")"
   ]
  },
  {
   "cell_type": "code",
   "execution_count": 59,
   "metadata": {},
   "outputs": [
    {
     "name": "stdout",
     "output_type": "stream",
     "text": [
      "2 hour : 0 min\n"
     ]
    }
   ],
   "source": [
    "def function7(a):\n",
    "    a = int(input(\"Input your minute:\"))\n",
    "    hour = a // 60\n",
    "    min = a % 60\n",
    "    print(hour,\"hour :\",min,\"min\")\n",
    "result7 = function7(\"\")"
   ]
  }
 ],
 "metadata": {
  "interpreter": {
   "hash": "b3ba2566441a7c06988d0923437866b63cedc61552a5af99d1f4fb67d367b25f"
  },
  "kernelspec": {
   "display_name": "Python 3.9.7 64-bit ('base': conda)",
   "language": "python",
   "name": "python3"
  },
  "language_info": {
   "codemirror_mode": {
    "name": "ipython",
    "version": 3
   },
   "file_extension": ".py",
   "mimetype": "text/x-python",
   "name": "python",
   "nbconvert_exporter": "python",
   "pygments_lexer": "ipython3",
   "version": "3.9.7"
  },
  "orig_nbformat": 4
 },
 "nbformat": 4,
 "nbformat_minor": 2
}
